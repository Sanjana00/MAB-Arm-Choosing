{
 "cells": [
  {
   "cell_type": "code",
   "execution_count": 164,
   "metadata": {},
   "outputs": [],
   "source": [
    "import numpy as np\n",
    "import math\n",
    "import matplotlib.pyplot as plt"
   ]
  },
  {
   "cell_type": "code",
   "execution_count": 165,
   "metadata": {},
   "outputs": [],
   "source": [
    "ALPHA = 1.96 # contains 95% of data in normal distribution\n",
    "\n",
    "class Arm:\n",
    "    def __init__(self, mu, sigma):\n",
    "        self.mu = mu\n",
    "        self.sigma = sigma\n",
    "        self.n = 0\n",
    "        self.sum = 0\n",
    "        self.sq_sum = 0\n",
    "    \n",
    "    def get_val(self):\n",
    "        '''\n",
    "        Return random value from arm with normal distribution.\n",
    "        '''\n",
    "        val = np.random.normal(self.mu, self.sigma)\n",
    "        self.n += 1\n",
    "        self.sum += val\n",
    "        self.sq_sum += val * val\n",
    "        return val\n",
    "    \n",
    "    def get_mean(self):\n",
    "        '''\n",
    "        Calculate and return mean.\n",
    "        '''\n",
    "        return self.sum / self.n if self.n != 0 else 0\n",
    "    \n",
    "    def get_stdev(self):\n",
    "        ''' \n",
    "        Uses Welford's algorithm to calculate and return running standard deviation.\n",
    "        '''\n",
    "        mean = self.get_mean()\n",
    "        return math.sqrt((self.sq_sum / self.n) - (mean * mean)) if self.n != 0 else 0\n",
    "    \n",
    "    def get_weight(self):\n",
    "        mean = self.get_mean()\n",
    "        stdev = self.get_stdev()\n",
    "        return mean + ALPHA * ((stdev + mean) / math.sqrt(self.n + 1))"
   ]
  },
  {
   "cell_type": "code",
   "execution_count": 166,
   "metadata": {},
   "outputs": [],
   "source": [
    "ARM_COUNT = 100\n",
    "ARMS = []\n",
    "\n",
    "def generate_arm():\n",
    "    mu = random.uniform(10, 50)\n",
    "    sigma = random.uniform(1, 10)\n",
    "    ARMS.append(Arm(mu, sigma))\n",
    "    \n",
    "for _ in range(ARM_COUNT):\n",
    "    generate_arm()"
   ]
  },
  {
   "cell_type": "code",
   "execution_count": 167,
   "metadata": {},
   "outputs": [
    {
     "data": {
      "text/plain": [
       "100"
      ]
     },
     "execution_count": 167,
     "metadata": {},
     "output_type": "execute_result"
    }
   ],
   "source": [
    "len(ARMS)"
   ]
  },
  {
   "cell_type": "code",
   "execution_count": 168,
   "metadata": {},
   "outputs": [],
   "source": [
    "class MDP:\n",
    "    def random_reward(self):\n",
    "        arm = np.random.choice(self.arms, size=None, replace=False, p=None)\n",
    "        return arm.get_val()\n",
    "        \n",
    "    def probabilistic_reward(self):\n",
    "        weights = [arm.get_weight() for arm in self.arms]\n",
    "        sum_weights = sum(weights)\n",
    "        probabilities = [weight / sum_weights for weight in weights]\n",
    "        arm = np.random.choice(self.arms, size=None, replace=False, p=probabilities)\n",
    "        return arm.get_val()\n",
    "        \n",
    "    def __init__(self, e, arms, randomized = 0):\n",
    "        self.epsilon = e\n",
    "        self.reward = 0.0\n",
    "        self.get_reward = [self.probabilistic_reward, self.random_reward][randomized]\n",
    "        self.arms = arms\n",
    "        \n",
    "    def max_reward(self):\n",
    "        arm = max(self.arms, key=lambda x : x.get_mean())\n",
    "        return arm.get_val()\n",
    "    \n",
    "    def make_decision(self):\n",
    "        decision_variable = random.random()\n",
    "        if decision_variable <= self.epsilon:\n",
    "            reward = self.get_reward()\n",
    "            self.reward += reward\n",
    "        else:\n",
    "            self.reward += self.max_reward()"
   ]
  },
  {
   "cell_type": "code",
   "execution_count": 169,
   "metadata": {},
   "outputs": [
    {
     "name": "stdout",
     "output_type": "stream",
     "text": [
      "Batch 1.......................\n",
      "Batch 2.......................\n",
      "Batch 3.......................\n",
      "Batch 4.......................\n",
      "Batch 5.......................\n",
      "Batch 6.......................\n",
      "Batch 7.......................\n",
      "Batch 8.......................\n",
      "Batch 9.......................\n",
      "Batch 10.......................\n"
     ]
    }
   ],
   "source": [
    "m_rand = MDP(0.5, ARMS, 1)\n",
    "m_prob = MDP(0.5, ARMS)\n",
    "\n",
    "ITER_NUM = 10000\n",
    "BATCH_COUNT = 10\n",
    "\n",
    "y_rand, y_prob = [0.0], [0.0]\n",
    "\n",
    "for batch in range(BATCH_COUNT):\n",
    "    print(\"Batch {}.......................\".format(batch + 1))\n",
    "    for _ in range(ITER_NUM):\n",
    "        m_rand.make_decision()\n",
    "        y_rand.append(m_rand.reward)\n",
    "        \n",
    "        m_prob.make_decision()\n",
    "        y_prob.append(m_prob.reward)\n",
    "    m_rand.epsilon -= 0.05\n",
    "    m_prob.epsilon -= 0.05"
   ]
  },
  {
   "cell_type": "code",
   "execution_count": 170,
   "metadata": {},
   "outputs": [
    {
     "data": {
      "image/png": "[encoded data removed]",
      "text/plain": [
       "<Figure size 432x288 with 1 Axes>"
      ]
     },
     "metadata": {
      "needs_background": "light"
     },
     "output_type": "display_data"
    }
   ],
   "source": [
    "plt.plot(y_rand, color='r')\n",
    "plt.plot(y_prob, color='g')\n",
    "\n",
    "plt.show()"
   ]
  },
  {
   "cell_type": "code",
   "execution_count": null,
   "metadata": {},
   "outputs": [],
   "source": []
  }
 ],
 "metadata": {
  "kernelspec": {
   "display_name": "Python 3",
   "language": "python",
   "name": "python3"
  },
  "language_info": {
   "codemirror_mode": {
    "name": "ipython",
    "version": 3
   },
   "file_extension": ".py",
   "mimetype": "text/x-python",
   "name": "python",
   "nbconvert_exporter": "python",
   "pygments_lexer": "ipython3",
   "version": "3.7.4"
  }
 },
 "nbformat": 4,
 "nbformat_minor": 2
}
